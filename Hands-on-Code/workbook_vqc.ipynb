{
 "cells": [
  {
   "cell_type": "code",
   "execution_count": null,
   "id": "3305b380-67c1-4657-9476-990a26681ecf",
   "metadata": {},
   "outputs": [],
   "source": [
    "import numpy as np\n",
    "import matplotlib.pyplot as plt\n",
    "import pandas as pd\n",
    "\n",
    "# Qiskit imports\n",
    "from qiskit.circuit import QuantumCircuit, ParameterVector\n",
    "from qiskit.circuit.library import zz_feature_map, real_amplitudes\n",
    "from qiskit_ibm_runtime import EstimatorV2 as Estimator\n",
    "\n",
    "%load_ext autoreload\n",
    "%autoreload 2"
   ]
  },
  {
   "cell_type": "markdown",
   "id": "1cce5796-1bfa-4f84-9413-8ca2e8380dd0",
   "metadata": {},
   "source": [
    "## Import Data"
   ]
  },
  {
   "cell_type": "code",
   "execution_count": null,
   "id": "6be5a6dc-debc-4073-ae4f-40d85479b35b",
   "metadata": {},
   "outputs": [],
   "source": [
    "# Load data with pandas\n",
    "data = pd.read_csv(\"diabetes_normalized.csv\")\n",
    "data.head()"
   ]
  },
  {
   "cell_type": "markdown",
   "id": "dac5e5e5-58d8-45ef-9458-93f58a6d0374",
   "metadata": {},
   "source": [
    "### Train-Test Split"
   ]
  },
  {
   "cell_type": "code",
   "execution_count": null,
   "id": "9137a74f-fe44-43ab-bead-c37571e80377",
   "metadata": {},
   "outputs": [],
   "source": [
    "from sklearn.model_selection import train_test_split"
   ]
  },
  {
   "cell_type": "code",
   "execution_count": null,
   "id": "e2b3eb8d-fd54-4445-8c25-1a5460ae67e1",
   "metadata": {},
   "outputs": [],
   "source": [
    "x, y = \n",
    "nfeatures = "
   ]
  },
  {
   "cell_type": "code",
   "execution_count": null,
   "id": "1a8ff5c0-9923-4501-a740-6367a1518e91",
   "metadata": {},
   "outputs": [],
   "source": [
    "x_train, x_test, y_train, y_test = \n",
    "print(x_train.shape, y_train.shape, x_test.shape, y_test.shape)"
   ]
  },
  {
   "cell_type": "code",
   "execution_count": null,
   "id": "eaea24fe-ee63-483b-b0f1-705d33928448",
   "metadata": {},
   "outputs": [],
   "source": [
    "x_train = np.asarray(x_train)\n",
    "y_train = np.asarray(y_train)"
   ]
  },
  {
   "cell_type": "markdown",
   "id": "c59b0dee-ecd0-43d9-883c-ea49af2d71fa",
   "metadata": {},
   "source": [
    "## Building the Variational Quantum Classifier (VQC) for Binary Classification Problem\n",
    "\n",
    "This will include multiple steps, starting with \n",
    "\n",
    "A. Building the VQC algorithm \n",
    "1. Data Embedding, followed by,\n",
    "2. Parameterized Quantum Circuit (PQC)/Ansatz with trainable parameters.\n",
    "\n",
    "B. Optimizing the circuit and operators\n",
    "1. Setting up Qiskit Runtime Service\n",
    "2. Traspilation\n",
    "\n",
    "C. Execution and Results\n",
    "1. Setup Primitives \n",
    "\n",
    "D. Post-processing\n",
    "1. Visualizing the results\n",
    "\n",
    "### Step A1: Data Embedding"
   ]
  },
  {
   "cell_type": "code",
   "execution_count": null,
   "id": "813e2af7-7711-417c-9138-24e8a3282911",
   "metadata": {},
   "outputs": [],
   "source": [
    "from utils import angle_embedding"
   ]
  },
  {
   "cell_type": "code",
   "execution_count": null,
   "id": "3229e063-339e-4caf-b608-a43e333e6fc6",
   "metadata": {},
   "outputs": [],
   "source": [
    "feature_params = \n",
    "embedding = \n",
    "embedding.draw(\"mpl\")"
   ]
  },
  {
   "cell_type": "markdown",
   "id": "bedc30db-5532-49a7-8b9f-53d2b5a34d53",
   "metadata": {},
   "source": [
    "### Step A2: PQC with Trainable Parameters"
   ]
  },
  {
   "cell_type": "code",
   "execution_count": null,
   "id": "9840dd29-e6e9-4bf2-8784-460c46915057",
   "metadata": {},
   "outputs": [],
   "source": [
    "ansatz = \n",
    "ansatz.draw(\"mpl\")"
   ]
  },
  {
   "cell_type": "code",
   "execution_count": null,
   "id": "64fecf00-ab07-4bce-8bd0-4f8910fda6c1",
   "metadata": {},
   "outputs": [],
   "source": [
    "weight_params = \n",
    "print(weight_params)"
   ]
  },
  {
   "cell_type": "markdown",
   "id": "fd219c1b-4d85-4d8e-bad1-a69035b62f66",
   "metadata": {},
   "source": [
    "### Final VQC Circuit"
   ]
  },
  {
   "cell_type": "code",
   "execution_count": null,
   "id": "5133a111-97dd-4eb1-bb93-37baab48e874",
   "metadata": {},
   "outputs": [],
   "source": [
    "vqc_circuit = \n",
    "vqc_circuit.draw(\"mpl\")"
   ]
  },
  {
   "cell_type": "code",
   "execution_count": null,
   "id": "6e3088cd-b3fd-4362-9b12-b57917a03b8d",
   "metadata": {},
   "outputs": [],
   "source": [
    "# Setting up circuit observables\n",
    "from qiskit.quantum_info import SparsePauliOp\n",
    "\n",
    "observable = "
   ]
  },
  {
   "cell_type": "markdown",
   "id": "0a46d5dd-0ea7-4e99-bca7-8e1d1dd409b6",
   "metadata": {},
   "source": [
    "## Step B: Optimize circuits and operators\n",
    "\n",
    "### Step B1: Setup Qiskit Runtime Service"
   ]
  },
  {
   "cell_type": "code",
   "execution_count": null,
   "id": "5f765153-f039-4a9e-99fd-d76a6531c8f1",
   "metadata": {},
   "outputs": [],
   "source": [
    "# Setup Qiskit Runtime\n",
    "from qiskit_ibm_runtime import QiskitRuntimeService\n",
    "from qiskit_ibm_runtime.fake_provider import FakeQuebec\n",
    "\n",
    "# If setting up Qiskit Runtime for the first time with custom hub/group/instance\n",
    "# QiskitRuntimeService.save_account(channel=\"ibm_quantum\", token=\"token\", instance=\"hub/group/project\", name=\"CustomName\")\n",
    "# service = QiskitRuntimeService(instance=\"hub/group/project\")\n",
    "\n",
    "service = QiskitRuntimeService(instance=\"ibm-q/open/main\")\n",
    "# backend = service.least_busy(simulator=False, operational=True)\n",
    "fake_backend = FakeQuebec()"
   ]
  },
  {
   "cell_type": "markdown",
   "id": "79c640c8-ddb7-4719-92a6-25c9edbf2556",
   "metadata": {},
   "source": [
    "### Step B2: Transpilation"
   ]
  },
  {
   "cell_type": "code",
   "execution_count": null,
   "id": "710d4fdb-caff-4ded-8ac1-a9a86373666c",
   "metadata": {},
   "outputs": [],
   "source": [
    "# Build an ISA circuit using pre-set transpilation passes.\n",
    "from qiskit.transpiler.preset_passmanagers import generate_preset_pass_manager\n",
    "\n",
    "pm =  generate_preset_pass_manager()   # You can change the optimization level\n",
    "\n",
    "# To see how the transpiled circuit looks, uncomment the lines below.\n",
    "# vqc_transpiled_circuit = pm.run(vqc_circuit)\n",
    "# vqc_transpiled_circuit.draw(\"mpl\", idle_wires=False)"
   ]
  },
  {
   "cell_type": "code",
   "execution_count": null,
   "id": "d6d4cfe5-f4b8-4e8d-920b-b9d40a860ffd",
   "metadata": {},
   "outputs": [],
   "source": [
    "# Apply obervables to the transpiled layout\n",
    "mapped_observables = [obs.apply_layout(vqc_transpiled_circuit.layout) for obs in observable]\n",
    "print(mapped_observables)"
   ]
  },
  {
   "cell_type": "markdown",
   "id": "13f246e6-763a-4919-a167-5e5753a7e60f",
   "metadata": {},
   "source": [
    "## Step C: Execution and Results\n",
    "\n",
    "### Step C1: Setup Primitives"
   ]
  },
  {
   "cell_type": "code",
   "execution_count": null,
   "id": "56173cff-6dc4-4d06-bf11-7479c9a7654c",
   "metadata": {},
   "outputs": [],
   "source": [
    "# Imports\n",
    "from qiskit_machine_learning.neural_networks import EstimatorQNN\n",
    "from qiskit_machine_learning.algorithms.classifiers import NeuralNetworkClassifier\n",
    "from qiskit_ibm_runtime import EstimatorV2 as Estimator\n",
    "from qiskit_machine_learning.optimizers import COBYLA"
   ]
  },
  {
   "cell_type": "code",
   "execution_count": null,
   "id": "4c03c52b-944b-4cf3-8e8b-b2d54894045c",
   "metadata": {},
   "outputs": [],
   "source": [
    "# Estimator Primitive\n",
    "estimator = \n",
    "\n",
    "# Define the QNN Primitive\n",
    "estimator_qnn = EstimatorQNN(\n",
    "    estimator= ,\n",
    "    circuit= ,\n",
    "    observables= ,\n",
    "    input_params= ,\n",
    "    weight_params= ,\n",
    "    pass_manager= ,\n",
    ")"
   ]
  },
  {
   "cell_type": "code",
   "execution_count": null,
   "id": "db320afc-d3eb-4b70-b7fb-3ef8ec229c38",
   "metadata": {},
   "outputs": [],
   "source": [
    "from IPython.display import clear_output\n",
    "\n",
    "# Callback function\n",
    "def callback_graph(weights, objective_func_eval):\n",
    "    clear_output(wait=True)\n",
    "    objective_func_vals.append(objective_func_eval)\n",
    "    print(f\"COBYLA Epoch {len(objective_func_vals)}: {objective_func_eval:.5f}\")\n",
    "    plt.title(\"Objective function value against iteration\")\n",
    "    plt.xlabel(\"Iteration\")\n",
    "    plt.ylabel(\"Objective function value\")\n",
    "    plt.plot(range(len(objective_func_vals)), objective_func_vals)\n",
    "    plt.show()"
   ]
  },
  {
   "cell_type": "code",
   "execution_count": null,
   "id": "f1cfa5e8-a8e5-493b-a844-042b54bb4d4c",
   "metadata": {},
   "outputs": [],
   "source": [
    "VQC = NeuralNetworkClassifier(\n",
    "    neural_network = , \n",
    "    optimizer= , \n",
    "    callback= ,\n",
    ")"
   ]
  },
  {
   "cell_type": "code",
   "execution_count": null,
   "id": "e032b7a8-80d0-4d87-bc94-5513fd3325d9",
   "metadata": {},
   "outputs": [],
   "source": [
    "objective_func_vals = []\n",
    "\n",
    "# Fit VQC\n",
    "VQC"
   ]
  },
  {
   "cell_type": "code",
   "execution_count": null,
   "id": "e9f08fbc-8755-470e-bba4-1ca2b48907a4",
   "metadata": {},
   "outputs": [],
   "source": [
    "# Train Score\n",
    "score_train = VQC.score(x_train, y_train)\n",
    "print(f'Score on the train set {score_train}')\n",
    "\n",
    "# Test Score\n",
    "score_test = VQC.score(x_test, y_test)\n",
    "print(f'Score on the test set {score_test}')"
   ]
  },
  {
   "cell_type": "markdown",
   "id": "aa4748bb-b1b0-4413-87d1-cbe4e7a40ae8",
   "metadata": {},
   "source": [
    "## Step D: Post-processing and Visualizing the results"
   ]
  },
  {
   "cell_type": "code",
   "execution_count": null,
   "id": "6dc62ba6-0de7-42be-97e8-0a086600e98b",
   "metadata": {},
   "outputs": [],
   "source": [
    "y_test_pred = VQC.predict(x_test)\n",
    "\n",
    "# Add a column for Test_Label\n",
    "pairplot_data['Test_Label'] = y_test\n",
    "# Predicted Label\n",
    "pairplot_data[\"Predicted_Label\"] = y_test_pred\n",
    "\n",
    "# print(pairplot_data.head())"
   ]
  },
  {
   "cell_type": "code",
   "execution_count": null,
   "id": "921051ce-8cc4-493e-9866-bd564bf29bf7",
   "metadata": {},
   "outputs": [],
   "source": [
    "plt.figure(figsize=(10, 8))\n",
    "scatter = plt.scatter(pairplot_data['Glucose'], pairplot_data['BloodPressure'], c=pairplot_data['Test_Label'], marker='o', edgecolors='k')\n",
    "\n",
    "# Highlight misclassifications with a different marker\n",
    "misclassified = pairplot_data[pairplot_data['Test_Label'] != pairplot_data['Predicted_Label']]\n",
    "plt.scatter(misclassified['Glucose'], misclassified['BloodPressure'], marker='x', s=100, color='red', label='Misclassified')\n",
    "\n",
    "# Customize the plot\n",
    "plt.xlabel('Glucose')\n",
    "plt.ylabel('BloodPressure')\n",
    "plt.title('Scatter Plot of Features with Test Labels and Predictions')\n",
    "plt.legend()\n",
    "plt.colorbar(scatter, label='True Label')\n",
    "\n",
    "# Show the plot\n",
    "plt.show()"
   ]
  },
  {
   "cell_type": "code",
   "execution_count": null,
   "id": "13da2fe1-a26a-486e-a182-55be098829db",
   "metadata": {},
   "outputs": [],
   "source": []
  }
 ],
 "metadata": {
  "kernelspec": {
   "display_name": "Python 3 (ipykernel)",
   "language": "python",
   "name": "python3"
  },
  "language_info": {
   "codemirror_mode": {
    "name": "ipython",
    "version": 3
   },
   "file_extension": ".py",
   "mimetype": "text/x-python",
   "name": "python",
   "nbconvert_exporter": "python",
   "pygments_lexer": "ipython3",
   "version": "3.9.19"
  }
 },
 "nbformat": 4,
 "nbformat_minor": 5
}
